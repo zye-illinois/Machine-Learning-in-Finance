{
  "nbformat": 4,
  "nbformat_minor": 0,
  "metadata": {
    "colab": {
      "name": "part1.ipynb",
      "provenance": [],
      "collapsed_sections": []
    },
    "kernelspec": {
      "name": "python3",
      "display_name": "Python 3"
    }
  },
  "cells": [
    {
      "cell_type": "code",
      "metadata": {
        "id": "GletNUCqCQOb",
        "colab": {
          "base_uri": "https://localhost:8080/"
        },
        "outputId": "e4249fc3-ea1b-4157-9125-a89d6f301606"
      },
      "source": [
        "import tensorflow as tf\n",
        "#import numpy as np\n",
        "Spot = 36   # stock price\n",
        "σ = 0.2     # stock volatility\n",
        "K = 40      # strike price\n",
        "r = 0.06    # risk free rate\n",
        "n = 100000  # Number of simualted paths\n",
        "m = 50      # number of exercise dates\n",
        "T = 1       # maturity\n",
        "order = 6   # Polynmial order\n",
        "Δt = T / m  # interval between two exercise dates\n",
        "\n",
        "# Construct polynomial features of order up to k using the\n",
        "# recursive formulation\n",
        "def chebyshev_basis(x, k):  \n",
        "    B = [tf.ones(len(x)), x]   \n",
        "    for n in range(2, k):\n",
        "        Bn = 2 * x * B[n - 1] - B[n - 2] \n",
        "        B.append(Bn)       \n",
        "\n",
        "    return tf.stack(B,axis = 1)\n",
        "\n",
        "# scales x to be in the interval(-1, 1)\n",
        "def scale(x):\n",
        "    xmin = tf.reduce_min(x)\n",
        "    xmax = tf.reduce_max(x)\n",
        "    a = 2 / (xmax - xmin)\n",
        "    b = 1 - a * xmax\n",
        "    return a * x + b\n",
        "\n",
        "# simulates the stock price evolution\n",
        "def advance(S, r, σ, Δt, n):\n",
        "    dB = tf.sqrt(Δt) * tf.random.normal(shape=tf.shape(S))\n",
        "    out = S + r * S * Δt + σ * S * dB\n",
        "    return out\n",
        "\n",
        "# LSMC algorithm\n",
        "\n",
        "def compute_price(order, Spot, σ, K, r):\n",
        "    tf.random.set_seed(0)\n",
        "    S0 = Spot * tf.ones(n)\n",
        "    S = {0: S0}\n",
        "\n",
        "    for t in range(m):\n",
        "        S[t + 1] = advance(S[t], r, σ, Δt, n)\n",
        "\n",
        "    discount = tf.math.exp(-r * Δt)\n",
        "    CFL = {t: tf.maximum(0., K - S[t]) for t in S.keys()}\n",
        "    value_tp1 = CFL[m] * discount \n",
        "    CV = {m: tf.zeros_like(S0)}\n",
        "\n",
        "    for t in range(m - 1, 0, -1):\n",
        "        X = chebyshev_basis(scale(S[t]), order) \n",
        "        Y = tf.constant(value_tp1, shape=(n, 1)) \n",
        "\n",
        "        # regression to estimate the continuation value\n",
        "        Θ = tf.linalg.solve(tf.matmul(tf.transpose(X),X),tf.matmul(tf.transpose(X),Y))    \n",
        "        CV[t] = tf.constant(tf.matmul(X,Θ),dtype=tf.float32)\n",
        "        CFL[t] = tf.constant(CFL[t],shape=(n,1),dtype=tf.float32)\n",
        "        exercise = tf.math.greater(CFL[t],CV[t])\n",
        "        value_tp1 = tf.constant(value_tp1, shape=(n,1))\n",
        "        value_t = tf.where(exercise, CFL[t], value_tp1)\n",
        "        value_tp1 = discount * value_t\n",
        "        \n",
        "\n",
        "    POF = {t: tf.where(CV[t] < CFL[t], CFL[t], 0) for t in range(1, m + 1)}\n",
        "    POF[m] = tf.constant(POF[m],shape=(n,1))\n",
        "    POF[m-1] = tf.constant(POF[m-1],shape=(n,1))\n",
        "    #print(POF.values())  \n",
        "\n",
        "    POF = tf.stack(list(POF.values()),axis=0)\n",
        "\n",
        "    POF = tf.constant(POF, shape=(m,n))\n",
        "    idx_payoffs = tf.math.argmax(POF > 0, axis=0)\n",
        "    FPOF = tf.transpose(tf.one_hot(idx_payoffs, m)) * POF\n",
        "    m_range = tf.constant(range(0, m), shape=(m,1),dtype=tf.float32)\n",
        "    dFPOF = FPOF * tf.math.exp(-r * m_range * Δt)\n",
        "    dFPOF=tf.reduce_sum(dFPOF)\n",
        "    PRICE = dFPOF / n\n",
        "    return(PRICE)\n",
        "\n",
        "print(compute_price(order, Spot, σ, K, r))"
      ],
      "execution_count": 1,
      "outputs": [
        {
          "output_type": "stream",
          "name": "stdout",
          "text": [
            "tf.Tensor(4.487445, shape=(), dtype=float32)\n"
          ]
        }
      ]
    }
  ]
}